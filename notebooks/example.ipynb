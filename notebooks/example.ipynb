{
 "cells": [
  {
   "cell_type": "code",
   "execution_count": null,
   "id": "03df3ea3",
   "metadata": {},
   "outputs": [],
   "source": [
    "import numpy as np\n",
    "import matplotlib.pyplot as plt\n",
    "import matplotlib.gridspec as gridspec\n",
    "from sklearn.decomposition import PCA\n",
    "\n",
    "import sys\n",
    "sys.path.append('..')\n",
    "\n",
    "import neural_manifolds as nm\n",
    "\n",
    "%load_ext autoreload\n",
    "%autoreload 2"
   ]
  },
  {
   "cell_type": "markdown",
   "id": "7f5bb0a2",
   "metadata": {},
   "source": [
    "# Example: spikes with 2D latent model\n",
    "Here, we construct spikes for $N$ neurons from time-dependent rates $\\nu_i(t)$ that are linear combinations from a latend model with $z(t)$\n",
    "\n",
    "Specifically, we choose \n",
    "$$\n",
    "   z_1(t) = sin(\\pi \\omega t)\\\\\n",
    "   z_2(t) = cos(\\pi \\omega t )\n",
    "$$"
   ]
  },
  {
   "cell_type": "code",
   "execution_count": null,
   "outputs": [],
   "source": [
    "latent_model = nm.test_data.LatentModel(\"sin_cos\", omega=0.2)\n",
    "\n",
    "t = np.arange(0,5,0.001)\n",
    "latent_state = latent_model(t)\n",
    "print(latent_state.shape)\n",
    "plt.plot(latent_state[0,:],latent_state[1,:]) \n",
    "plt.title(\"Latent space\")\n",
    "print(latent_model)"
   ],
   "metadata": {
    "collapsed": false,
    "pycharm": {
     "name": "#%%\n"
    }
   }
  },
  {
   "cell_type": "markdown",
   "source": [
    "Then, we generate neural firing rates as linear combinations of the latent variables\n",
    "\n",
    "$$\n",
    "  \\nu_i (t) = c_1*z_1(t) + c_2*z_2(t) + offset\n",
    "$$"
   ],
   "metadata": {
    "collapsed": false,
    "pycharm": {
     "name": "#%% md\n"
    }
   }
  },
  {
   "cell_type": "code",
   "execution_count": null,
   "outputs": [],
   "source": [
    "from neural_manifolds.test_data import firing_rates\n",
    "# Number of neurons\n",
    "N = 32\n",
    "rates = firing_rates(latent_model, t, N)\n",
    "print(rates.shape)"
   ],
   "metadata": {
    "collapsed": false,
    "pycharm": {
     "name": "#%%\n"
    }
   }
  },
  {
   "cell_type": "code",
   "execution_count": null,
   "outputs": [],
   "source": [
    "pca_orig = PCA()\n",
    "pca_orig.fit(rates)\n",
    "plt.plot(np.cumsum(pca_orig.explained_variance_ratio_))"
   ],
   "metadata": {
    "collapsed": false,
    "pycharm": {
     "name": "#%%\n"
    }
   }
  },
  {
   "cell_type": "markdown",
   "source": [
    "To get a bit more realistic, let's generate actual spikes as an inhomogeneous poisson process"
   ],
   "metadata": {
    "collapsed": false,
    "pycharm": {
     "name": "#%% md\n"
    }
   }
  },
  {
   "cell_type": "code",
   "execution_count": null,
   "outputs": [],
   "source": [
    "spikes = nm.test_data.inhomogenous_poisson_spikes(rates, 0.001)\n",
    "\n",
    "ids = np.unique(spikes[:,0])\n",
    "\n",
    "fig, ax = plt.subplots(1,1,figsize=(12, 5))\n",
    "for id in ids:\n",
    "    mask = spikes[:,0] == id\n",
    "    spike_times = spikes[mask,1]\n",
    "    ax.plot(spike_times, np.ones_like(spike_times)*id, '|', color='k', markersize=10)\n",
    "\n",
    "ax.set_xlabel('Time [s]')\n",
    "ax.set_ylabel(\"Neuron ID\")\n",
    "ax.set_title(\"Generated Spikes\")\n",
    "ax.set_xlim(0,t.max())\n",
    "plt.show()"
   ],
   "metadata": {
    "collapsed": false,
    "pycharm": {
     "name": "#%%\n"
    }
   }
  },
  {
   "cell_type": "markdown",
   "source": [
    "Follow analysis of https://www.nature.com/articles/s41593-019-0555-4\n",
    "\n",
    "Bin spikes in windows of size 30ms"
   ],
   "metadata": {
    "collapsed": false,
    "pycharm": {
     "name": "#%% md\n"
    }
   }
  },
  {
   "cell_type": "code",
   "execution_count": null,
   "outputs": [],
   "source": [
    "delta_t = 0.5 # 0.03\n",
    "sd_t = 0.5    #0.05\n",
    "counts, _, time = np.histogram2d(spikes[:,0], spikes[:,1],bins=[np.arange(N+1),np.arange(0,t.max(),delta_t)])\n",
    "plt.plot(time[:-1], counts.T);"
   ],
   "metadata": {
    "collapsed": false,
    "pycharm": {
     "name": "#%%\n"
    }
   }
  },
  {
   "cell_type": "code",
   "execution_count": null,
   "outputs": [],
   "source": [
    "plt.plot(time[:-1], np.sum(counts.T, axis=1));"
   ],
   "metadata": {
    "collapsed": false,
    "pycharm": {
     "name": "#%%\n"
    }
   }
  },
  {
   "cell_type": "markdown",
   "source": [
    "Now make square root transform"
   ],
   "metadata": {
    "collapsed": false,
    "pycharm": {
     "name": "#%% md\n"
    }
   }
  },
  {
   "cell_type": "code",
   "execution_count": null,
   "outputs": [],
   "source": [
    "sqcounts = np.sqrt(counts)\n",
    "plt.plot(time[:-1], sqcounts.T);"
   ],
   "metadata": {
    "collapsed": false,
    "pycharm": {
     "name": "#%%\n"
    }
   }
  },
  {
   "cell_type": "markdown",
   "source": [
    "and apply Gaussian filter (with s.d. of 50ms)"
   ],
   "metadata": {
    "collapsed": false,
    "pycharm": {
     "name": "#%% md\n"
    }
   }
  },
  {
   "cell_type": "code",
   "execution_count": null,
   "outputs": [],
   "source": [
    "from scipy.ndimage import gaussian_filter1d\n",
    "print(sqcounts.shape)\n",
    "sd=sd_t/delta_t\n",
    "signal = gaussian_filter1d(sqcounts, sigma=sd, axis=1)\n",
    "plt.plot(time[:-1], signal.T);"
   ],
   "metadata": {
    "collapsed": false,
    "pycharm": {
     "name": "#%%\n"
    }
   }
  },
  {
   "cell_type": "code",
   "execution_count": null,
   "outputs": [],
   "source": [
    "pca = PCA()\n",
    "# print(signal.shape)\n",
    "pca.fit(signal)\n",
    "# print(pca.explained_variance_ratio_)\n",
    "# print(pca.singular_values_)\n",
    "plt.plot(np.cumsum(pca.explained_variance_ratio_), label='on spike data')\n",
    "plt.plot(np.cumsum(pca_orig.explained_variance_ratio_), label='on true rates')\n",
    "plt.xlabel('number of PCs')\n",
    "plt.ylabel('cumulative fraction of variance explained')\n",
    "plt.legend()"
   ],
   "metadata": {
    "collapsed": false,
    "pycharm": {
     "name": "#%%\n"
    }
   }
  },
  {
   "cell_type": "code",
   "execution_count": null,
   "outputs": [],
   "source": [],
   "metadata": {
    "collapsed": false,
    "pycharm": {
     "name": "#%%\n"
    }
   }
  }
 ],
 "metadata": {
  "kernelspec": {
   "display_name": "",
   "language": "python",
   "name": ""
  },
  "language_info": {
   "codemirror_mode": {
    "name": "ipython",
    "version": 3
   },
   "file_extension": ".py",
   "mimetype": "text/x-python",
   "name": "python",
   "nbconvert_exporter": "python",
   "pygments_lexer": "ipython3",
   "version": "3.10.6"
  },
  "vscode": {
   "interpreter": {
    "hash": "5a93720d1af033579096b7ff56b60a97513f4ea3c4775390f097903a6df54f8f"
   }
  }
 },
 "nbformat": 4,
 "nbformat_minor": 5
}