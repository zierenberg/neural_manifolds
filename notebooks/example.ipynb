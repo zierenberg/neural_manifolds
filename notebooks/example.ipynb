{
 "cells": [
  {
   "cell_type": "code",
   "execution_count": null,
   "id": "03df3ea3",
   "metadata": {},
   "outputs": [],
   "source": [
    "import numpy as np\n",
    "import matplotlib.pyplot as plt\n",
    "import matplotlib.gridspec as gridspec\n",
    "from sklearn.decomposition import PCA\n",
    "\n",
    "import sys\n",
    "sys.path.append('..')\n",
    "\n",
    "import neural_manifolds as nm\n",
    "\n",
    "%load_ext autoreload\n",
    "%autoreload 2"
   ]
  },
  {
   "cell_type": "markdown",
   "id": "7f5bb0a2",
   "metadata": {},
   "source": [
    "# Example: spikes with 2D latent model\n",
    "Here, we construct spikes for $N$ neurons from time-dependent rates $\\nu_i(t)$ that are linear combinations from a latend model with $z(t)$\n",
    "\n",
    "Specifically, we choose \n",
    "$$\n",
    "   z_1(t) = sin(\\pi \\omega t)\\\\\n",
    "   z_2(t) = cos(\\pi \\omega t )\n",
    "$$"
   ]
  },
  {
   "cell_type": "code",
   "execution_count": null,
   "id": "59679989",
   "metadata": {
    "pycharm": {
     "name": "#%%\n"
    }
   },
   "outputs": [],
   "source": [
    "latent_model = nm.test_data.LatentModel(\"sin_cos\", omega=0.2)\n",
    "\n",
    "t = np.arange(0,100,0.001)\n",
    "latent_state = latent_model(t)\n",
    "print(latent_state.shape)\n",
    "f, axes = plt.subplots(1,2,figsize=((8,3)))\n",
    "axes[0].plot(latent_state[0,:],latent_state[1,:])\n",
    "axes[1].plot(t,latent_state[0,:])\n",
    "axes[1].plot(t,latent_state[1,:])\n",
    "\n",
    "plt.title(\"Latent space\")\n",
    "print(latent_model)"
   ]
  },
  {
   "cell_type": "markdown",
   "id": "1b05f006",
   "metadata": {
    "collapsed": false,
    "pycharm": {
     "name": "#%% md\n"
    }
   },
   "source": [
    "Then, we generate neural firing rates as linear combinations of the latent variables\n",
    "\n",
    "$$\n",
    "  \\nu_i (t) = c_1*z_1(t) + c_2*z_2(t) + offset\n",
    "$$"
   ]
  },
  {
   "cell_type": "code",
   "execution_count": null,
   "id": "88bda286",
   "metadata": {
    "pycharm": {
     "name": "#%%\n"
    }
   },
   "outputs": [],
   "source": [
    "from neural_manifolds.test_data import firing_rates\n",
    "# Number of neurons\n",
    "N = 32\n",
    "rates = firing_rates(latent_model, t, N)\n",
    "print(rates.shape)"
   ]
  },
  {
   "cell_type": "code",
   "execution_count": null,
   "id": "5635ea16",
   "metadata": {
    "pycharm": {
     "name": "#%%\n"
    }
   },
   "outputs": [],
   "source": [
    "pca_orig = PCA()\n",
    "pca_orig.fit(rates.T)\n",
    "plt.plot(np.cumsum(pca_orig.explained_variance_ratio_))"
   ]
  },
  {
   "cell_type": "markdown",
   "id": "bcc86c2e",
   "metadata": {
    "collapsed": false,
    "pycharm": {
     "name": "#%% md\n"
    }
   },
   "source": [
    "To get a bit more realistic, let's generate actual spikes as an inhomogeneous poisson process"
   ]
  },
  {
   "cell_type": "code",
   "execution_count": null,
   "id": "c58f78be",
   "metadata": {
    "pycharm": {
     "name": "#%%\n"
    }
   },
   "outputs": [],
   "source": [
    "spikes = nm.test_data.inhomogenous_poisson_spikes(rates, 0.001)\n",
    "\n",
    "ids = np.unique(spikes[:,0])\n",
    "\n",
    "fig, ax = plt.subplots(1,1,figsize=(12, 5))\n",
    "for id in ids:\n",
    "    mask = spikes[:,0] == id\n",
    "    spike_times = spikes[mask,1]\n",
    "    ax.plot(spike_times, np.ones_like(spike_times)*id, '|', color='k', markersize=10)\n",
    "\n",
    "ax.set_xlabel('Time [s]')\n",
    "ax.set_ylabel(\"Neuron ID\")\n",
    "ax.set_title(\"Generated Spikes\")\n",
    "ax.set_xlim(0,t.max())\n",
    "plt.show()"
   ]
  },
  {
   "cell_type": "markdown",
   "id": "e01942b2",
   "metadata": {
    "collapsed": false,
    "pycharm": {
     "name": "#%% md\n"
    }
   },
   "source": [
    "Follow analysis of https://www.nature.com/articles/s41593-019-0555-4\n",
    "\n",
    "Bin spikes in windows of size 30ms"
   ]
  },
  {
   "cell_type": "code",
   "execution_count": null,
   "id": "f3b314de",
   "metadata": {
    "pycharm": {
     "name": "#%%\n"
    }
   },
   "outputs": [],
   "source": [
    "delta_t = 0.5 # 0.03\n",
    "sd_t = 0.5    #0.05\n",
    "counts, _, time = np.histogram2d(spikes[:,0], spikes[:,1],bins=[np.arange(N+1),np.arange(0,t.max(),delta_t)])\n",
    "plt.plot(time[:-1], counts.T);"
   ]
  },
  {
   "cell_type": "code",
   "execution_count": null,
   "id": "a6ff1ca3",
   "metadata": {
    "pycharm": {
     "name": "#%%\n"
    }
   },
   "outputs": [],
   "source": [
    "plt.plot(time[:-1], np.sum(counts.T, axis=1));"
   ]
  },
  {
   "cell_type": "markdown",
   "id": "58d9d859",
   "metadata": {
    "collapsed": false,
    "pycharm": {
     "name": "#%% md\n"
    }
   },
   "source": [
    "Now make square root transform"
   ]
  },
  {
   "cell_type": "code",
   "execution_count": null,
   "id": "7fabeb00",
   "metadata": {
    "pycharm": {
     "name": "#%%\n"
    }
   },
   "outputs": [],
   "source": [
    "sqcounts = np.sqrt(counts)\n",
    "plt.plot(time[:-1], sqcounts.T);"
   ]
  },
  {
   "cell_type": "markdown",
   "id": "7fc62de6",
   "metadata": {
    "collapsed": false,
    "pycharm": {
     "name": "#%% md\n"
    }
   },
   "source": [
    "and apply Gaussian filter (with s.d. of 50ms)"
   ]
  },
  {
   "cell_type": "code",
   "execution_count": null,
   "id": "817f92d7",
   "metadata": {
    "pycharm": {
     "name": "#%%\n"
    }
   },
   "outputs": [],
   "source": [
    "from scipy.ndimage import gaussian_filter1d\n",
    "print(sqcounts.shape)\n",
    "sd=sd_t/delta_t\n",
    "signal = gaussian_filter1d(sqcounts, sigma=sd, axis=1)\n",
    "plt.plot(time[:-1], signal.T);"
   ]
  },
  {
   "cell_type": "code",
   "execution_count": null,
   "id": "a990c40a",
   "metadata": {
    "pycharm": {
     "name": "#%%\n"
    }
   },
   "outputs": [],
   "source": [
    "pca = PCA()\n",
    "# print(signal.shape)\n",
    "pca.fit(signal.T)\n",
    "# print(pca.explained_variance_ratio_)\n",
    "# print(pca.singular_values_)\n",
    "plt.plot(np.cumsum(pca.explained_variance_ratio_), label='on spike data')\n",
    "plt.plot(np.cumsum(pca_orig.explained_variance_ratio_), label='on true rates')\n",
    "plt.xlabel('number of PCs')\n",
    "plt.ylabel('cumulative fraction of variance explained')\n",
    "plt.legend()"
   ]
  },
  {
   "cell_type": "code",
   "execution_count": null,
   "id": "f9175601",
   "metadata": {
    "pycharm": {
     "name": "#%%\n"
    }
   },
   "outputs": [],
   "source": [
    "signal_low_dim = pca.transform(signal.T)[:,:2]\n",
    "plt.title(\"Dimension reduction\")\n",
    "plt.plot(t, signal_low_dim)\n",
    "plt.show()"
   ]
  },
  {
   "cell_type": "code",
   "execution_count": null,
   "id": "c063f5ec",
   "metadata": {
    "pycharm": {
     "name": "#%%\n"
    }
   },
   "outputs": [],
   "source": []
  },
  {
   "cell_type": "code",
   "execution_count": null,
   "id": "16781780",
   "metadata": {
    "pycharm": {
     "name": "#%%\n"
    }
   },
   "outputs": [],
   "source": [
    "# Projection on largest two principal components:\n",
    "signal_low_dim = pca.transform(signal.T)[:,:2]\n",
    "f, axes = plt.subplots(1,2,figsize=((8,3)))\n",
    "axes[0].plot(signal_low_dim[:,0],signal_low_dim[:,1])\n",
    "axes[1].plot(signal_low_dim)\n",
    "\n",
    "plt.title(\"Dimension reduction\")\n",
    "plt.plot(signal_low_dim)\n",
    "plt.show()"
   ]
  },
  {
   "cell_type": "code",
   "execution_count": null,
   "id": "3c3ee0b6",
   "metadata": {
    "pycharm": {
     "name": "#%%\n"
    }
   },
   "outputs": [],
   "source": []
  }
 ],
 "metadata": {
  "kernelspec": {
   "display_name": "Python 3.10.6 ('neural_manifolds')",
   "language": "python",
   "name": "python3"
  },
  "language_info": {
   "codemirror_mode": {
    "name": "ipython",
    "version": 3
   },
   "file_extension": ".py",
   "mimetype": "text/x-python",
   "name": "python",
   "nbconvert_exporter": "python",
   "pygments_lexer": "ipython3",
   "version": "3.10.6"
  },
  "vscode": {
   "interpreter": {
    "hash": "5a93720d1af033579096b7ff56b60a97513f4ea3c4775390f097903a6df54f8f"
   }
  }
 },
 "nbformat": 4,
 "nbformat_minor": 5
}
