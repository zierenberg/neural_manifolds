{
 "cells": [
  {
   "cell_type": "code",
   "execution_count": null,
   "id": "03df3ea3",
   "metadata": {},
   "outputs": [],
   "source": [
    "import numpy as np\n",
    "import matplotlib.pyplot as plt\n",
    "import matplotlib.gridspec as gridspec\n",
    "from sklearn.decomposition import PCA\n",
    "\n",
    "import sys\n",
    "sys.path.append('..')\n",
    "\n",
    "import neural_manifolds as nm\n",
    "\n",
    "%load_ext autoreload\n",
    "%autoreload 2"
   ]
  },
  {
   "cell_type": "markdown",
   "id": "7f5bb0a2",
   "metadata": {},
   "source": [
    "# Example: spikes with 2D latent model\n",
    "Here, we construct spikes for $N$ neurons from time-dependent rates $\\nu_i(t)$ that are linear combinations from a latend model with $z(t)$\n",
    "\n",
    "Specifically, we choose \n",
    "$$\n",
    "   z_1(t) = sin(\\pi \\omega t)\\\\\n",
    "   z_2(t) = cos(\\pi \\omega t )\n",
    "$$"
   ]
  },
  {
   "cell_type": "code",
   "execution_count": null,
   "id": "4d2ed8a8",
   "metadata": {},
   "outputs": [],
   "source": [
    "latent_model = nm.test_data.LatentModel(\"sin_cos\", omega=0.2)\n",
    "\n",
    "t = np.arange(0,5,0.001)\n",
    "latent_state = latent_model(t)\n",
    "print(latent_state.shape)\n",
    "plt.plot(latent_state[0,:],latent_state[1,:]) \n",
    "plt.title(\"Latent space\")\n",
    "print(latent_model)"
   ]
  },
  {
   "cell_type": "markdown",
   "id": "0b47258f",
   "metadata": {},
   "source": [
    "Then, we generate neural firing rates as linear combinations of the latent variables\n",
    "\n",
    "$$\n",
    "  \\nu_i (t) = c_1*z_1(t) + c_2*z_2(t) + offset\n",
    "$$"
   ]
  },
  {
   "cell_type": "code",
   "execution_count": null,
   "id": "e7d67376",
   "metadata": {},
   "outputs": [],
   "source": [
    "from neural_manifolds.test_data import firing_rates\n",
    "# Number of neurons\n",
    "N = 32\n",
    "rates = firing_rates(latent_model, t, N)\n",
    "print(rates.shape)"
   ]
  },
  {
   "cell_type": "code",
   "execution_count": null,
   "id": "b0bb0fc8",
   "metadata": {},
   "outputs": [],
   "source": [
    "pca = PCA()\n",
    "pca.fit(rates)\n",
    "print(pca.explained_variance_ratio_)\n",
    "print(pca.singular_values_)\n",
    "plt.plot(pca.explained_variance_ratio_)"
   ]
  },
  {
   "cell_type": "markdown",
   "id": "8f364609",
   "metadata": {},
   "source": [
    "To get a bit more realistic, let's generate actual spikes as an inhomogeneous poisson process"
   ]
  },
  {
   "cell_type": "code",
   "execution_count": null,
   "id": "f07dc669",
   "metadata": {},
   "outputs": [],
   "source": [
    "spikes = nm.test_data.inhomogenous_poisson_spikes(rates, 0.01)\n",
    "plt.plot(spikes[:,0],spikes[:,1])\n",
    "plt.show()"
   ]
  },
  {
   "cell_type": "markdown",
   "id": "6dce869d",
   "metadata": {},
   "source": [
    "Follow analysis of https://www.nature.com/articles/s41593-019-0555-4\n",
    "\n",
    "Bin spikes in windows of size 30ms"
   ]
  },
  {
   "cell_type": "code",
   "execution_count": null,
   "id": "4832f396",
   "metadata": {},
   "outputs": [],
   "source": [
    "delta_t = 0.5 # 0.03\n",
    "sd_t = 0.5    #0.05\n",
    "counts, _, time = np.histogram2d(spikes[:,0], spikes[:,1],bins=[np.arange(N+1),np.arange(0,t.max(),delta_t)])\n",
    "plt.plot(time[:-1], counts.T);"
   ]
  },
  {
   "cell_type": "code",
   "execution_count": null,
   "id": "47427cef",
   "metadata": {},
   "outputs": [],
   "source": [
    "plt.plot(time[:-1], np.sum(counts.T, axis=1));"
   ]
  },
  {
   "cell_type": "markdown",
   "id": "1deba4d5",
   "metadata": {},
   "source": [
    "Now make square root transform"
   ]
  },
  {
   "cell_type": "code",
   "execution_count": null,
   "id": "7ca4c7ce",
   "metadata": {},
   "outputs": [],
   "source": [
    "sqcounts = np.sqrt(counts)\n",
    "plt.plot(time[:-1], sqcounts.T);"
   ]
  },
  {
   "cell_type": "markdown",
   "id": "c1ef14a4",
   "metadata": {},
   "source": [
    "and apply Gaussian filter (with s.d. of 50ms)"
   ]
  },
  {
   "cell_type": "code",
   "execution_count": null,
   "id": "5437e334",
   "metadata": {},
   "outputs": [],
   "source": [
    "from scipy.ndimage import gaussian_filter1d\n",
    "print(sqcounts.shape)\n",
    "sd=sd_t/delta_t\n",
    "signal = gaussian_filter1d(sqcounts, sigma=sd, axis=1)\n",
    "plt.plot(time[:-1], signal.T);"
   ]
  },
  {
   "cell_type": "code",
   "execution_count": null,
   "id": "cdfec462",
   "metadata": {},
   "outputs": [],
   "source": [
    "pca = PCA()\n",
    "# print(signal.shape)\n",
    "pca.fit(signal)\n",
    "# print(pca.explained_variance_ratio_)\n",
    "# print(pca.singular_values_)\n",
    "plt.plot(pca.explained_variance_ratio_)"
   ]
  },
  {
   "cell_type": "code",
   "execution_count": null,
   "id": "62ebba0d",
   "metadata": {},
   "outputs": [],
   "source": []
  }
 ],
 "metadata": {
  "kernelspec": {
   "display_name": "Python 3 (ipykernel)",
   "language": "python",
   "name": "python3"
  },
  "language_info": {
   "codemirror_mode": {
    "name": "ipython",
    "version": 3
   },
   "file_extension": ".py",
   "mimetype": "text/x-python",
   "name": "python",
   "nbconvert_exporter": "python",
   "pygments_lexer": "ipython3",
   "version": "3.9.13"
  }
 },
 "nbformat": 4,
 "nbformat_minor": 5
}
