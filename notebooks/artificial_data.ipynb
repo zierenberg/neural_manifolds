{
 "cells": [
  {
   "cell_type": "code",
   "execution_count": null,
   "id": "03df3ea3",
   "metadata": {},
   "outputs": [],
   "source": [
    "import numpy as np\n",
    "import matplotlib.pyplot as plt\n",
    "import matplotlib.gridspec as gridspec\n",
    "from sklearn.decomposition import PCA\n",
    "\n",
    "import sys\n",
    "sys.path.append('..')\n",
    "\n",
    "import neural_manifolds as nm\n",
    "\n",
    "%load_ext autoreload\n",
    "%autoreload 2"
   ]
  },
  {
   "cell_type": "markdown",
   "id": "7f5bb0a2",
   "metadata": {},
   "source": [
    "# Example: artifical data\n",
    "\n",
    "In this notebook we show the general workflow on how to create artificial data. We will use the `artificial_data` submodule to create the data. The module is located in `neural_manifolds/artificial_data/*`, you can find all the functions there."
   ]
  },
  {
   "cell_type": "markdown",
   "id": "d6666863",
   "metadata": {},
   "source": [
    "## 1 Latent model\n",
    "Here, we construct spikes for $N$ neurons from time-dependent rates $\\nu_i(t)$ that are linear combinations from a latent model with $z(t)$.\n",
    "\n",
    "Specifically, we choose \n",
    "$$\n",
    "   z_1(t) = sin(\\pi \\omega t)\\\\\n",
    "   z_2(t) = cos(\\pi \\omega t )\n",
    "$$"
   ]
  },
  {
   "cell_type": "code",
   "execution_count": null,
   "id": "4d2ed8a8",
   "metadata": {},
   "outputs": [],
   "source": [
    "\n",
    "latent_model = nm.test_data.LatentModel(\"sin_cos\", omega=0.2)\n",
    "\n",
    "# Define time vector\n",
    "t = np.arange(0,5,0.001)\n",
    "latent_state = latent_model(t)\n",
    "print(latent_model)\n"
   ]
  },
  {
   "cell_type": "code",
   "execution_count": null,
   "id": "864514c7",
   "metadata": {},
   "outputs": [],
   "source": [
    "plt.plot(latent_state[0,:],latent_state[1,:]) \n",
    "plt.title(\"Latent space\")"
   ]
  },
  {
   "cell_type": "markdown",
   "id": "0b47258f",
   "metadata": {},
   "source": [
    "## 2. Firing rates\n",
    "\n",
    "Then, we generate neural firing rates as linear combinations of the latent variables\n",
    "\n",
    "$$\n",
    "  \\nu_i (t) = \\sum_j c_{ij} \\cdot z_j(t) + \\mathrm{offset}\n",
    "$$"
   ]
  },
  {
   "cell_type": "code",
   "execution_count": null,
   "id": "e7d67376",
   "metadata": {},
   "outputs": [],
   "source": [
    "from neural_manifolds.test_data import firing_rates\n",
    "# Number of neurons\n",
    "N = 32\n",
    "rates = firing_rates(latent_model, t, N)"
   ]
  },
  {
   "cell_type": "code",
   "execution_count": null,
   "id": "f519f6f8",
   "metadata": {},
   "outputs": [],
   "source": [
    "fig, ax = plt.subplots(1, 1, figsize=(8, 3))\n",
    "ax.plot(\n",
    "    rates.T, alpha=0.8\n",
    ")\n",
    "ax.set_title(\"Rates\")\n",
    "ax.set_xlabel(\"Time [s]\")\n",
    "plt.show()"
   ]
  },
  {
   "cell_type": "markdown",
   "id": "8f364609",
   "metadata": {},
   "source": [
    "# 3. Spikes\n",
    "To get a bit more realistic, let's generate actual spikes as an inhomogeneous poisson process."
   ]
  },
  {
   "cell_type": "code",
   "execution_count": null,
   "id": "f07dc669",
   "metadata": {},
   "outputs": [],
   "source": [
    "spikes = nm.test_data.inhomogenous_poisson_spikes(rates, 0.001)"
   ]
  },
  {
   "cell_type": "code",
   "execution_count": null,
   "id": "a57903e0",
   "metadata": {},
   "outputs": [],
   "source": [
    "ids = np.unique(spikes[:,0])\n",
    "\n",
    "fig, ax = plt.subplots(1,1,figsize=(12, 5))\n",
    "for id in ids:\n",
    "    mask = spikes[:,0] == id\n",
    "    spike_times = spikes[mask,1]\n",
    "    ax.plot(spike_times, np.ones_like(spike_times)*id, '|', color='k', markersize=10)\n",
    "\n",
    "ax.set_xlabel('Time [s]')\n",
    "ax.set_ylabel(\"Neuron Id\")\n",
    "ax.set_title(\"Generated Spikes\")\n",
    "ax.set_xlim(0,t.max())\n",
    "plt.show()"
   ]
  },
  {
   "cell_type": "markdown",
   "id": "13806e68",
   "metadata": {},
   "source": [
    "## 4. Signals\n",
    "\n",
    "We transform the \"real\" spikes to signals, by creating a histogram of the spikes over time for each neuron.\n"
   ]
  },
  {
   "cell_type": "code",
   "execution_count": null,
   "id": "47f6e5e1",
   "metadata": {},
   "outputs": [],
   "source": [
    "from scipy.ndimage import gaussian_filter1d\n",
    "time_bin_width = 0.03 # in seconds\n",
    "counts, _, time = np.histogram2d(\n",
    "    spikes[:,0], # ids\n",
    "    spikes[:,1], # times\n",
    "    bins=[\n",
    "        np.arange(N+1), # neurons\n",
    "        np.arange(0,t.max(),time_bin_width) #times\n",
    "        ]\n",
    ")\n",
    "\n",
    "sd_t = 0.05 #s\n",
    "sqcounts = np.sqrt(counts)\n",
    "sd=sd_t/time_bin_width\n",
    "signal = gaussian_filter1d(sqcounts, sigma=sd, axis=1)\n",
    "\n"
   ]
  },
  {
   "cell_type": "code",
   "execution_count": null,
   "id": "ed7f775f",
   "metadata": {},
   "outputs": [],
   "source": [
    "fig, axes = plt.subplots(2,1,figsize=(12, 5))\n",
    "axes[0].set_title(\"Bin counts\")\n",
    "axes[0].imshow(counts, aspect='auto', cmap='gray_r')\n",
    "\n",
    "axes[1].set_title(\"Signals\")\n",
    "axes[1].plot(time[:-1], signal.T)\n",
    "axes[1].set_xlim(0,time[:-1].max())\n",
    "plt.tight_layout()\n"
   ]
  }
 ],
 "metadata": {
  "kernelspec": {
   "display_name": "",
   "language": "python",
   "name": ""
  },
  "language_info": {
   "codemirror_mode": {
    "name": "ipython",
    "version": 3
   },
   "file_extension": ".py",
   "mimetype": "text/x-python",
   "name": "python",
   "nbconvert_exporter": "python",
   "pygments_lexer": "ipython3",
   "version": "3.10.0"
  },
  "vscode": {
   "interpreter": {
    "hash": "66bd824df35bfc5549de4cc0d6b8681f42e31257f16fd75745c5d7014b6dcd09"
   }
  }
 },
 "nbformat": 4,
 "nbformat_minor": 5
}
