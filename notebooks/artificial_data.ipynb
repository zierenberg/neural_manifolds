{
 "cells": [
  {
   "cell_type": "code",
   "execution_count": null,
   "id": "03df3ea3",
   "metadata": {
    "pycharm": {
     "name": "#%%\n"
    }
   },
   "outputs": [],
   "source": [
    "import numpy as np\n",
    "import matplotlib.pyplot as plt\n",
    "import matplotlib.gridspec as gridspec\n",
    "from sklearn.decomposition import PCA\n",
    "\n",
    "import sys\n",
    "sys.path.append('..')\n",
    "\n",
    "import neural_manifolds as nm\n",
    "\n",
    "%load_ext autoreload\n",
    "%autoreload 2"
   ]
  },
  {
   "cell_type": "markdown",
   "id": "7f5bb0a2",
   "metadata": {
    "pycharm": {
     "name": "#%% md\n"
    }
   },
   "source": [
    "# Example: artifical data\n",
    "\n",
    "In this notebook we show the general workflow on how to create artificial data. We will use the `artificial_data` submodule to create the data. The module is located in `neural_manifolds/artificial_data/*`, you can find all the functions there."
   ]
  },
  {
   "cell_type": "markdown",
   "id": "d6666863",
   "metadata": {
    "pycharm": {
     "name": "#%% md\n"
    }
   },
   "source": [
    "## 1 Latent model\n",
    "Here, we construct spikes for $N$ neurons from time-dependent rates $\\nu_i(t)$ that are linear combinations from a latent model with $z(t)$.\n",
    "\n",
    "Specifically, we choose \n",
    "$$\n",
    "   z_1(t) = sin(\\pi \\omega t)\\\\\n",
    "   z_2(t) = cos(\\pi \\omega t )\n",
    "$$"
   ]
  },
  {
   "cell_type": "code",
   "execution_count": null,
   "id": "4d2ed8a8",
   "metadata": {
    "pycharm": {
     "name": "#%%\n"
    }
   },
   "outputs": [],
   "source": [
    "\n",
    "latent_model = nm.test_data.LatentModel(\"sin_cos\", omega=0.2)\n",
    "\n",
    "# Define time vector\n",
    "t = np.arange(0,5,0.001)\n",
    "latent_state = latent_model(t)\n",
    "print(latent_model)\n"
   ]
  },
  {
   "cell_type": "code",
   "execution_count": null,
   "id": "864514c7",
   "metadata": {
    "pycharm": {
     "name": "#%%\n"
    }
   },
   "outputs": [],
   "source": [
    "plt.plot(latent_state[0,:],latent_state[1,:]) \n",
    "plt.title(\"Latent space\")"
   ]
  },
  {
   "cell_type": "markdown",
   "id": "0b47258f",
   "metadata": {
    "pycharm": {
     "name": "#%% md\n"
    }
   },
   "source": [
    "## 2. Firing rates\n",
    "\n",
    "Then, we generate neural firing rates as linear combinations of the latent variables\n",
    "\n",
    "$$\n",
    "  \\nu_i (t) = \\sum_j c_{ij} \\cdot z_j(t) + \\mathrm{offset}\n",
    "$$"
   ]
  },
  {
   "cell_type": "code",
   "execution_count": null,
   "id": "e7d67376",
   "metadata": {
    "pycharm": {
     "name": "#%%\n"
    }
   },
   "outputs": [],
   "source": [
    "from neural_manifolds.test_data import firing_rates\n",
    "# Number of neurons\n",
    "N = 32\n",
    "rates = firing_rates(latent_model, t, N)"
   ]
  },
  {
   "cell_type": "code",
   "execution_count": null,
   "id": "f519f6f8",
   "metadata": {
    "pycharm": {
     "name": "#%%\n"
    }
   },
   "outputs": [],
   "source": [
    "fig, ax = plt.subplots(1, 1, figsize=(8, 3))\n",
    "ax.plot(\n",
    "    rates.T, alpha=0.8\n",
    ")\n",
    "ax.set_title(\"Rates\")\n",
    "ax.set_xlabel(\"Time [s]\")\n",
    "plt.show()"
   ]
  },
  {
   "cell_type": "markdown",
   "id": "8f364609",
   "metadata": {
    "pycharm": {
     "name": "#%% md\n"
    }
   },
   "source": [
    "# 3. Spikes\n",
    "To get a bit more realistic, let's generate actual spikes as an inhomogeneous poisson process."
   ]
  },
  {
   "cell_type": "code",
   "execution_count": null,
   "id": "f07dc669",
   "metadata": {
    "pycharm": {
     "name": "#%%\n"
    }
   },
   "outputs": [],
   "source": [
    "spikes = nm.test_data.inhomogenous_poisson_spikes(rates, 0.001)"
   ]
  },
  {
   "cell_type": "code",
   "execution_count": null,
   "id": "a57903e0",
   "metadata": {
    "pycharm": {
     "name": "#%%\n"
    }
   },
   "outputs": [],
   "source": [
    "ids = np.unique(spikes[:,0])\n",
    "\n",
    "fig, ax = plt.subplots(1,1,figsize=(12, 5))\n",
    "for id in ids:\n",
    "    mask = spikes[:,0] == id\n",
    "    spike_times = spikes[mask,1]\n",
    "    ax.plot(spike_times, np.ones_like(spike_times)*id, '|', color='k', markersize=10)\n",
    "\n",
    "ax.set_xlabel('Time [s]')\n",
    "ax.set_ylabel(\"Neuron Id\")\n",
    "ax.set_title(\"Generated Spikes\")\n",
    "ax.set_xlim(0,t.max())\n",
    "plt.show()"
   ]
  },
  {
   "cell_type": "markdown",
   "id": "13806e68",
   "metadata": {
    "pycharm": {
     "name": "#%% md\n"
    }
   },
   "source": [
    "## 4. Signals\n",
    "\n",
    "We transform the \"real\" spikes to signals, by creating a histogram of the spikes over time for each neuron.\n"
   ]
  },
  {
   "cell_type": "code",
   "execution_count": null,
   "id": "47f6e5e1",
   "metadata": {
    "pycharm": {
     "name": "#%%\n"
    }
   },
   "outputs": [],
   "source": [
    "time, signal = nm.test_data.signals.smooth_spikes(spikes, bin_width = 0.01, std_gaussian = 0.1, sampling_width=0.05, sqrt=True)\n"
   ]
  },
  {
   "cell_type": "code",
   "execution_count": null,
   "outputs": [],
   "source": [
    "print(len(np.unique(spikes[:,0]))) #unique neuron ids\n",
    "print(np.max(spikes[:,1]))"
   ],
   "metadata": {
    "collapsed": false,
    "pycharm": {
     "name": "#%%\n"
    }
   }
  },
  {
   "cell_type": "code",
   "execution_count": null,
   "outputs": [],
   "source": [
    "print(time.shape)\n",
    "print(signal.shape)"
   ],
   "metadata": {
    "collapsed": false,
    "pycharm": {
     "name": "#%%\n"
    }
   }
  },
  {
   "cell_type": "code",
   "execution_count": null,
   "id": "ed7f775f",
   "metadata": {
    "pycharm": {
     "name": "#%%\n"
    }
   },
   "outputs": [],
   "source": [
    "fig, axes = plt.subplots(2,1,figsize=(12, 5))\n",
    "axes[0].set_title(\"Signal as an image\")\n",
    "axes[0].imshow(signal, aspect='auto', cmap='gray_r')\n",
    "\n",
    "axes[1].set_title(\"Signals\")\n",
    "axes[1].plot(time, signal.T)\n",
    "axes[1].set_xlim(0,time[:-1].max())\n",
    "plt.tight_layout()"
   ]
  },
  {
   "cell_type": "code",
   "execution_count": null,
   "outputs": [],
   "source": [],
   "metadata": {
    "collapsed": false,
    "pycharm": {
     "name": "#%%\n"
    }
   }
  }
 ],
 "metadata": {
  "kernelspec": {
   "name": "",
   "language": "python",
   "display_name": ""
  },
  "language_info": {
   "codemirror_mode": {
    "name": "ipython",
    "version": 3
   },
   "file_extension": ".py",
   "mimetype": "text/x-python",
   "name": "python",
   "nbconvert_exporter": "python",
   "pygments_lexer": "ipython3",
   "version": "3.10.0"
  },
  "vscode": {
   "interpreter": {
    "hash": "66bd824df35bfc5549de4cc0d6b8681f42e31257f16fd75745c5d7014b6dcd09"
   }
  }
 },
 "nbformat": 4,
 "nbformat_minor": 5
}
